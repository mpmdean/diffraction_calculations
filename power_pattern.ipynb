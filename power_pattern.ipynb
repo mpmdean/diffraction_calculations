{
 "cells": [
  {
   "cell_type": "code",
   "execution_count": 1,
   "metadata": {},
   "outputs": [],
   "source": [
    "import numpy as np\n",
    "import matplotlib.pyplot as plt \n",
    "from pymatgen import Lattice, Structure\n",
    "import xrayutilities as xru\n",
    "from xrayutilities.materials.cif import CIFFile\n",
    "from xrayutilities.materials.material import Crystal\n",
    "\n",
    "%matplotlib widget"
   ]
  },
  {
   "cell_type": "code",
   "execution_count": 2,
   "metadata": {},
   "outputs": [],
   "source": [
    "%matplotlib widget\n",
    "xu_cif = CIFFile('Sr2IrO4_mp-4998_conventional_standard.cif')\n",
    "xu_crystal = Crystal(name='Sr2IrO4', lat=xu_cif.SGLattice())"
   ]
  },
  {
   "cell_type": "code",
   "execution_count": 3,
   "metadata": {},
   "outputs": [],
   "source": [
    "two_theta = np.linspace(5, 50, 2000)\n",
    "powder = xru.simpack.smaterials.Powder(xu_crystal, 1)\n",
    "pm = xru.simpack.PowderModel(powder, I0=200, en=21.75*1000)\n",
    "intensities = pm.simulate(two_theta)"
   ]
  },
  {
   "cell_type": "code",
   "execution_count": 4,
   "metadata": {},
   "outputs": [
    {
     "data": {
      "application/vnd.jupyter.widget-view+json": {
       "model_id": "d9237fddc2084e2fb3cd7b56d34c345f",
       "version_major": 2,
       "version_minor": 0
      },
      "text/plain": [
       "FigureCanvasNbAgg()"
      ]
     },
     "metadata": {},
     "output_type": "display_data"
    },
    {
     "data": {
      "text/plain": [
       "Text(0, 0.5, 'I')"
      ]
     },
     "execution_count": 4,
     "metadata": {},
     "output_type": "execute_result"
    }
   ],
   "source": [
    "fig, ax = plt.subplots()\n",
    "\n",
    "ax.plot(two_theta, intensities)\n",
    "ax.set_xlabel('Two theta (degrees)')\n",
    "ax.set_ylabel('I')"
   ]
  }
 ],
 "metadata": {
  "kernelspec": {
   "display_name": "Python [conda env:main_new]",
   "language": "python",
   "name": "conda-env-main_new-py"
  },
  "language_info": {
   "codemirror_mode": {
    "name": "ipython",
    "version": 3
   },
   "file_extension": ".py",
   "mimetype": "text/x-python",
   "name": "python",
   "nbconvert_exporter": "python",
   "pygments_lexer": "ipython3",
   "version": "3.6.6"
  }
 },
 "nbformat": 4,
 "nbformat_minor": 2
}
