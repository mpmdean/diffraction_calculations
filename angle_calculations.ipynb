{
 "cells": [
  {
   "cell_type": "code",
   "execution_count": 1,
   "metadata": {},
   "outputs": [],
   "source": [
    "import numpy as np\n",
    "import matplotlib.pyplot as plt \n",
    "#from pymatgen import Lattice, Structure\n",
    "import xrayutilities as xru\n",
    "from xrayutilities.materials.cif import CIFFile\n",
    "from xrayutilities.materials.material import Crystal\n",
    "\n",
    "%matplotlib widget"
   ]
  },
  {
   "cell_type": "code",
   "execution_count": 2,
   "metadata": {},
   "outputs": [
    {
     "name": "stdout",
     "output_type": "stream",
     "text": [
      "XU.material: Wyckoff positions missing, using P1\n"
     ]
    }
   ],
   "source": [
    "%matplotlib widget\n",
    "xu_cif = CIFFile('LaBaCuO_LTO_74109.cif')\n",
    "xu_crystal = Crystal(name='La2CuO4', lat=xu_cif.SGLattice())\n",
    "pd = xru.simpack.powder.PowderDiffraction(xu_crystal, en=11.2*1000)"
   ]
  },
  {
   "cell_type": "code",
   "execution_count": 3,
   "metadata": {},
   "outputs": [
    {
     "name": "stdout",
     "output_type": "stream",
     "text": [
      "- omega 1.8488 :      incidence angle with respect to surface\n",
      "- chi 0.0000:        sample tilt for the case of non-coplanar geometry\n",
      "- phi 0.0000:        sample azimuth with respect to inplane reference direction\n",
      "- twotheta 38.1452:   scattering angle/detector angle)\n"
     ]
    }
   ],
   "source": [
    "experiment = xru.HXRD(xu_crystal.Q(1, 0, 0), xu_crystal.Q(0, 0, 1), en=12000)\n",
    "angles108 = experiment.Q2Ang(xu_crystal.Q(-1, 0, 8), geometry='real')\n",
    "omega, chi, phi, twotheta = angles108\n",
    "print((\"- omega {:.4f} :      incidence angle with respect to surface\\n\".format(omega) +\n",
    "     \"- chi {:.4f}:        sample tilt for the case of non-coplanar geometry\\n\".format(chi) +\n",
    "     \"- phi {:.4f}:        sample azimuth with respect to inplane reference direction\\n\".format(phi) +\n",
    "     \"- twotheta {:.4f}:   scattering angle/detector angle)\".format(twotheta)))"
   ]
  },
  {
   "cell_type": "code",
   "execution_count": 4,
   "metadata": {},
   "outputs": [
    {
     "name": "stdout",
     "output_type": "stream",
     "text": [
      "- omega 1.9019 :      incidence angle with respect to surface\n",
      "- chi 0.0000:        sample tilt for the case of non-coplanar geometry\n",
      "- phi -0.0000:        sample azimuth with respect to inplane reference direction\n",
      "- twotheta 38.1325:   scattering angle/detector angle)\n"
     ]
    }
   ],
   "source": [
    "experiment = xru.HXRD(xu_crystal.Q(0, 1, 0), xu_crystal.Q(0, 0, 1), en=12000)\n",
    "angles018 = experiment.Q2Ang(xu_crystal.Q(0, -1, 8), geometry='real')\n",
    "omega, chi, phi, twotheta = angles018\n",
    "print((\"- omega {:.4f} :      incidence angle with respect to surface\\n\".format(omega) +\n",
    "     \"- chi {:.4f}:        sample tilt for the case of non-coplanar geometry\\n\".format(chi) +\n",
    "     \"- phi {:.4f}:        sample azimuth with respect to inplane reference direction\\n\".format(phi) +\n",
    "     \"- twotheta {:.4f}:   scattering angle/detector angle)\".format(twotheta)))"
   ]
  },
  {
   "cell_type": "code",
   "execution_count": 5,
   "metadata": {},
   "outputs": [
    {
     "name": "stdout",
     "output_type": "stream",
     "text": [
      "th splitting is 0.053 deg\n",
      "tth splitting is 0.013 deg\n"
     ]
    }
   ],
   "source": [
    "print(\"th splitting is {:.3f} deg\".format(angles018[0]-angles108[0]))\n",
    "print(\"tth splitting is {:.3f} deg\".format(angles108[-1]-angles018[-1]))"
   ]
  },
  {
   "cell_type": "code",
   "execution_count": 6,
   "metadata": {},
   "outputs": [
    {
     "name": "stdout",
     "output_type": "stream",
     "text": [
      "crystallite twins are rotated by 0.211 deg\n"
     ]
    }
   ],
   "source": [
    "a = xu_crystal.a\n",
    "b = xu_crystal.b\n",
    "\n",
    "rotation = 180/np.pi * (np.pi/2 -2*np.arctan(a/b))\n",
    "\n",
    "print(\"crystallite twins are rotated by {:.3f} deg\".format(rotation))"
   ]
  }
 ],
 "metadata": {
  "kernelspec": {
   "display_name": "Python 3",
   "language": "python",
   "name": "python3"
  },
  "language_info": {
   "codemirror_mode": {
    "name": "ipython",
    "version": 3
   },
   "file_extension": ".py",
   "mimetype": "text/x-python",
   "name": "python",
   "nbconvert_exporter": "python",
   "pygments_lexer": "ipython3",
   "version": "3.7.2"
  }
 },
 "nbformat": 4,
 "nbformat_minor": 2
}
